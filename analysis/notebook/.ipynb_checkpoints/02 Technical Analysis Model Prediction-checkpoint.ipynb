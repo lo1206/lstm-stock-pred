{
 "cells": [
  {
   "cell_type": "code",
   "execution_count": 1,
   "metadata": {},
   "outputs": [
    {
     "name": "stderr",
     "output_type": "stream",
     "text": [
      "Using TensorFlow backend.\n"
     ]
    }
   ],
   "source": [
    "from datetime import date, datetime, timedelta \n",
    "import numpy as np \n",
    "import pandas as pd\n",
    "\n",
    "import sys\n",
    "sys.path.append('../utils')\n",
    "import db\n",
    "\n",
    "from keras.models import load_model\n",
    "from sklearn import preprocessing\n",
    "\n",
    "import matplotlib.pyplot as plt\n"
   ]
  },
  {
   "cell_type": "code",
   "execution_count": 2,
   "metadata": {},
   "outputs": [
    {
     "name": "stdout",
     "output_type": "stream",
     "text": [
      "20190804-063227\n"
     ]
    }
   ],
   "source": [
    "taskid = '{date:%Y%m%d-%H%M%S}'.format( date=datetime.now()) \n",
    "print(taskid)\n"
   ]
  },
  {
   "cell_type": "markdown",
   "metadata": {},
   "source": [
    "### Load Keras Model"
   ]
  },
  {
   "cell_type": "code",
   "execution_count": 3,
   "metadata": {},
   "outputs": [
    {
     "name": "stdout",
     "output_type": "stream",
     "text": [
      "WARNING:tensorflow:From /opt/conda/lib/python3.7/site-packages/tensorflow/python/framework/op_def_library.py:263: colocate_with (from tensorflow.python.framework.ops) is deprecated and will be removed in a future version.\n",
      "Instructions for updating:\n",
      "Colocations handled automatically by placer.\n",
      "WARNING:tensorflow:From /opt/conda/lib/python3.7/site-packages/keras/backend/tensorflow_backend.py:3445: calling dropout (from tensorflow.python.ops.nn_ops) with keep_prob is deprecated and will be removed in a future version.\n",
      "Instructions for updating:\n",
      "Please use `rate` instead of `keep_prob`. Rate should be set to `rate = 1 - keep_prob`.\n",
      "WARNING:tensorflow:From /opt/conda/lib/python3.7/site-packages/tensorflow/python/ops/math_ops.py:3066: to_int32 (from tensorflow.python.ops.math_ops) is deprecated and will be removed in a future version.\n",
      "Instructions for updating:\n",
      "Use tf.cast instead.\n",
      "_________________________________________________________________\n",
      "Layer (type)                 Output Shape              Param #   \n",
      "=================================================================\n",
      "input_3 (InputLayer)         (None, 50, 7)             0         \n",
      "_________________________________________________________________\n",
      "lstm_13 (LSTM)               (None, 50, 20)            2240      \n",
      "_________________________________________________________________\n",
      "dropout_9 (Dropout)          (None, 50, 20)            0         \n",
      "_________________________________________________________________\n",
      "lstm_14 (LSTM)               (None, 50, 20)            3280      \n",
      "_________________________________________________________________\n",
      "dropout_10 (Dropout)         (None, 50, 20)            0         \n",
      "_________________________________________________________________\n",
      "lstm_15 (LSTM)               (None, 20)                3280      \n",
      "_________________________________________________________________\n",
      "dense_9 (Dense)              (None, 20)                420       \n",
      "_________________________________________________________________\n",
      "dense_10 (Dense)             (None, 20)                420       \n",
      "_________________________________________________________________\n",
      "dense_11 (Dense)             (None, 1)                 21        \n",
      "=================================================================\n",
      "Total params: 9,661\n",
      "Trainable params: 9,661\n",
      "Non-trainable params: 0\n",
      "_________________________________________________________________\n"
     ]
    }
   ],
   "source": [
    "# load model\n",
    "model = load_model('TA model v2.h5')\n",
    "# summarize model.\n",
    "model.summary()"
   ]
  },
  {
   "cell_type": "markdown",
   "metadata": {},
   "source": [
    "## Get Stock Price"
   ]
  },
  {
   "cell_type": "code",
   "execution_count": 4,
   "metadata": {},
   "outputs": [],
   "source": [
    "seq_length = 50"
   ]
  },
  {
   "cell_type": "code",
   "execution_count": 5,
   "metadata": {},
   "outputs": [],
   "source": [
    "df_stock_price_all = db.show_stock_price()\n",
    "df_stock_price_all = df_stock_price_all.sort_values(by=['stockcode','date'])"
   ]
  },
  {
   "cell_type": "code",
   "execution_count": 6,
   "metadata": {},
   "outputs": [
    {
     "data": {
      "text/plain": [
       "array(['0005.HK', '0011.HK', '0023.HK', '0222.HK', '0416.HK', '0440.HK',\n",
       "       '0626.HK', '0939.HK', '0998.HK', '1111.HK', '1216.HK', '1288.HK',\n",
       "       '1398.HK', '1551.HK', '1578.HK', '1658.HK', '1963.HK', '1988.HK',\n",
       "       '2016.HK', '2066.HK', '2356.HK', '2388.HK', '2888.HK', '3328.HK',\n",
       "       '3618.HK', '3698.HK', '3866.HK'], dtype=object)"
      ]
     },
     "execution_count": 6,
     "metadata": {},
     "output_type": "execute_result"
    }
   ],
   "source": [
    "df_stock_price_all['stockcode'].unique()"
   ]
  },
  {
   "cell_type": "code",
   "execution_count": 7,
   "metadata": {},
   "outputs": [
    {
     "data": {
      "text/html": [
       "<div>\n",
       "<style scoped>\n",
       "    .dataframe tbody tr th:only-of-type {\n",
       "        vertical-align: middle;\n",
       "    }\n",
       "\n",
       "    .dataframe tbody tr th {\n",
       "        vertical-align: top;\n",
       "    }\n",
       "\n",
       "    .dataframe thead th {\n",
       "        text-align: right;\n",
       "    }\n",
       "</style>\n",
       "<table border=\"1\" class=\"dataframe\">\n",
       "  <thead>\n",
       "    <tr style=\"text-align: right;\">\n",
       "      <th></th>\n",
       "      <th>stockcode</th>\n",
       "      <th>date</th>\n",
       "      <th>open</th>\n",
       "      <th>high</th>\n",
       "      <th>low</th>\n",
       "      <th>close</th>\n",
       "      <th>adjclose</th>\n",
       "      <th>volume</th>\n",
       "    </tr>\n",
       "  </thead>\n",
       "  <tbody>\n",
       "    <tr>\n",
       "      <th>8234</th>\n",
       "      <td>3866.HK</td>\n",
       "      <td>2019-07-29</td>\n",
       "      <td>6.4</td>\n",
       "      <td>6.4</td>\n",
       "      <td>6.4</td>\n",
       "      <td>6.4</td>\n",
       "      <td>6.4</td>\n",
       "      <td>15500.0</td>\n",
       "    </tr>\n",
       "    <tr>\n",
       "      <th>8235</th>\n",
       "      <td>3866.HK</td>\n",
       "      <td>2019-07-30</td>\n",
       "      <td>6.4</td>\n",
       "      <td>6.4</td>\n",
       "      <td>6.4</td>\n",
       "      <td>6.4</td>\n",
       "      <td>6.4</td>\n",
       "      <td>0.0</td>\n",
       "    </tr>\n",
       "    <tr>\n",
       "      <th>8236</th>\n",
       "      <td>3866.HK</td>\n",
       "      <td>2019-07-31</td>\n",
       "      <td>6.4</td>\n",
       "      <td>6.4</td>\n",
       "      <td>6.4</td>\n",
       "      <td>6.4</td>\n",
       "      <td>6.4</td>\n",
       "      <td>0.0</td>\n",
       "    </tr>\n",
       "    <tr>\n",
       "      <th>8237</th>\n",
       "      <td>3866.HK</td>\n",
       "      <td>2019-08-01</td>\n",
       "      <td>6.4</td>\n",
       "      <td>6.4</td>\n",
       "      <td>6.4</td>\n",
       "      <td>6.4</td>\n",
       "      <td>6.4</td>\n",
       "      <td>0.0</td>\n",
       "    </tr>\n",
       "    <tr>\n",
       "      <th>8238</th>\n",
       "      <td>3866.HK</td>\n",
       "      <td>2019-08-02</td>\n",
       "      <td>6.3</td>\n",
       "      <td>6.3</td>\n",
       "      <td>6.3</td>\n",
       "      <td>6.3</td>\n",
       "      <td>6.3</td>\n",
       "      <td>1000.0</td>\n",
       "    </tr>\n",
       "  </tbody>\n",
       "</table>\n",
       "</div>"
      ],
      "text/plain": [
       "     stockcode        date  open  high  low  close  adjclose   volume\n",
       "8234   3866.HK  2019-07-29   6.4   6.4  6.4    6.4       6.4  15500.0\n",
       "8235   3866.HK  2019-07-30   6.4   6.4  6.4    6.4       6.4      0.0\n",
       "8236   3866.HK  2019-07-31   6.4   6.4  6.4    6.4       6.4      0.0\n",
       "8237   3866.HK  2019-08-01   6.4   6.4  6.4    6.4       6.4      0.0\n",
       "8238   3866.HK  2019-08-02   6.3   6.3  6.3    6.3       6.3   1000.0"
      ]
     },
     "execution_count": 7,
     "metadata": {},
     "output_type": "execute_result"
    }
   ],
   "source": [
    "df_stock_price_all.tail()"
   ]
  },
  {
   "cell_type": "code",
   "execution_count": 8,
   "metadata": {},
   "outputs": [],
   "source": [
    "# Create Empty Dataframe\n",
    "df_stock_price = pd.DataFrame(columns=df_stock_price_all.columns.tolist()+['target'] )\n",
    "\n",
    "# Calculate rolling average as target for each stock\n",
    "for stock in df_stock_price_all.stockcode.unique():\n",
    "    df_tmp = df_stock_price_all[df_stock_price_all['stockcode']==stock].copy()\n",
    "    df_tmp['target'] = df_tmp['adjclose'].rolling(window=5).mean()\n",
    "    df_stock_price = df_stock_price.append(df_tmp)\n",
    "\n",
    "df_stock_price = df_stock_price[df_stock_price.target.notnull()]"
   ]
  },
  {
   "cell_type": "code",
   "execution_count": 9,
   "metadata": {},
   "outputs": [],
   "source": [
    "categorical_cols = ['stockcode','date']\n",
    "numerical_cols = ['open', 'high', 'low', 'close', 'adjclose', 'volume', 'target']"
   ]
  },
  {
   "cell_type": "code",
   "execution_count": 10,
   "metadata": {},
   "outputs": [],
   "source": [
    "def normalize_df(df):\n",
    "    min_max_scaler = preprocessing.MinMaxScaler()\n",
    "    df[numerical_cols] = min_max_scaler.fit_transform(df[numerical_cols])\n",
    "    return df"
   ]
  },
  {
   "cell_type": "code",
   "execution_count": 11,
   "metadata": {},
   "outputs": [],
   "source": [
    "def get_df_pred(stock):\n",
    "    \n",
    "    num_of_sample = 100\n",
    "    \n",
    "    X = np.zeros((num_of_sample + 1, seq_length, len(numerical_cols)))\n",
    "    y = np.zeros((num_of_sample + 1))\n",
    "    D = []\n",
    "    \n",
    "    # Pick A Random Stock \n",
    "    df = df_stock_price[df_stock_price['stockcode']==stock].copy()\n",
    "    df = normalize_df(df)\n",
    "    \n",
    "    print('df:',len(df))\n",
    "    \n",
    "    # Get X, y of the stock\n",
    "    n = 0\n",
    "    while n < num_of_sample:\n",
    "        remain = num_of_sample - n \n",
    "        X[n] = df[numerical_cols][-seq_length-remain:-remain].values\n",
    "        y[n] = list(df['target'])[-remain]\n",
    "        D.append(list(df['date'])[-remain])\n",
    "        n = n + 1\n",
    "    \n",
    "    X[num_of_sample] = df[numerical_cols][-seq_length:].values\n",
    "    y[num_of_sample] = np.nan\n",
    "    \n",
    "    D.append(D[-1] + timedelta(days=1))\n",
    "    return X, y, D"
   ]
  },
  {
   "cell_type": "code",
   "execution_count": 20,
   "metadata": {},
   "outputs": [
    {
     "data": {
      "text/plain": [
       "'2019-08-02'"
      ]
     },
     "execution_count": 20,
     "metadata": {},
     "output_type": "execute_result"
    }
   ],
   "source": [
    "max(df_stock_price[df_stock_price.stockcode==stock].date).strftime('%Y-%m-%d')"
   ]
  },
  {
   "cell_type": "code",
   "execution_count": 21,
   "metadata": {},
   "outputs": [],
   "source": [
    "stocks_latest_update = []\n",
    "for stock in df_stock_price['stockcode'].unique():\n",
    "    latest_update = max(df_stock_price[df_stock_price.stockcode==stock].date).strftime('%Y-%m-%d')\n",
    "    stocks_latest_update.append([stock, latest_update])\n"
   ]
  },
  {
   "cell_type": "code",
   "execution_count": 22,
   "metadata": {},
   "outputs": [
    {
     "data": {
      "text/plain": [
       "[['0005.HK', '2019-08-02'],\n",
       " ['0011.HK', '2019-08-02'],\n",
       " ['0023.HK', '2019-08-02'],\n",
       " ['0222.HK', '2019-08-02'],\n",
       " ['0416.HK', '2019-08-02'],\n",
       " ['0440.HK', '2019-08-02'],\n",
       " ['0626.HK', '2019-08-02'],\n",
       " ['0939.HK', '2019-08-02'],\n",
       " ['0998.HK', '2019-08-02'],\n",
       " ['1111.HK', '2019-08-02'],\n",
       " ['1216.HK', '2019-08-02'],\n",
       " ['1288.HK', '2019-08-02'],\n",
       " ['1398.HK', '2019-08-02'],\n",
       " ['1551.HK', '2019-08-02'],\n",
       " ['1578.HK', '2019-08-02'],\n",
       " ['1658.HK', '2019-08-02'],\n",
       " ['1963.HK', '2019-08-02'],\n",
       " ['1988.HK', '2019-08-02'],\n",
       " ['2016.HK', '2019-08-02'],\n",
       " ['2066.HK', '2019-08-02'],\n",
       " ['2356.HK', '2019-08-02'],\n",
       " ['2388.HK', '2019-08-02'],\n",
       " ['2888.HK', '2019-08-02'],\n",
       " ['3328.HK', '2019-08-02'],\n",
       " ['3618.HK', '2019-08-02'],\n",
       " ['3698.HK', '2019-08-02'],\n",
       " ['3866.HK', '2019-08-02']]"
      ]
     },
     "execution_count": 22,
     "metadata": {},
     "output_type": "execute_result"
    }
   ],
   "source": [
    "stocks_latest_update"
   ]
  },
  {
   "cell_type": "code",
   "execution_count": 41,
   "metadata": {},
   "outputs": [
    {
     "name": "stdout",
     "output_type": "stream",
     "text": [
      "df: 381\n"
     ]
    },
    {
     "data": {
      "text/plain": [
       "[<matplotlib.lines.Line2D at 0x7ffa188f2208>]"
      ]
     },
     "execution_count": 41,
     "metadata": {},
     "output_type": "execute_result"
    },
    {
     "data": {
      "image/png": "[encoded data removed]",
      "text/plain": [
       "<Figure size 1440x360 with 1 Axes>"
      ]
     },
     "metadata": {
      "needs_background": "light"
     },
     "output_type": "display_data"
    }
   ],
   "source": [
    "X_Ori, y_Ori, X_Date = get_df_pred('3968.HK')\n",
    "y_pred = model.predict(X_Ori)\n",
    "\n",
    "plt.figure(figsize=(20,5))\n",
    "plt.plot(X_Date, y_Ori)\n",
    "plt.plot(X_Date,y_pred)\n"
   ]
  },
  {
   "cell_type": "code",
   "execution_count": null,
   "metadata": {},
   "outputs": [],
   "source": []
  }
 ],
 "metadata": {
  "kernelspec": {
   "display_name": "Python 3",
   "language": "python",
   "name": "python3"
  },
  "language_info": {
   "codemirror_mode": {
    "name": "ipython",
    "version": 3
   },
   "file_extension": ".py",
   "mimetype": "text/x-python",
   "name": "python",
   "nbconvert_exporter": "python",
   "pygments_lexer": "ipython3",
   "version": "3.7.3"
  }
 },
 "nbformat": 4,
 "nbformat_minor": 2
}
