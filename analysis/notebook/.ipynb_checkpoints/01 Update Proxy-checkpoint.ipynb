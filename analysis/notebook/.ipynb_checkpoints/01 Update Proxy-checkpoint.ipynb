{
 "cells": [
  {
   "cell_type": "code",
   "execution_count": 76,
   "metadata": {},
   "outputs": [],
   "source": [
    "# Web Packages\n",
    "import proxyscrape\n",
    "import requests\n",
    "\n",
    "# Date Packages\n",
    "from datetime import date, datetime\n",
    "\n",
    "# Database Packages\n",
    "import psycopg2\n",
    "\n",
    "# Numeric Packages\n",
    "import random"
   ]
  },
  {
   "cell_type": "markdown",
   "metadata": {},
   "source": [
    "## TaskID"
   ]
  },
  {
   "cell_type": "code",
   "execution_count": 83,
   "metadata": {},
   "outputs": [
    {
     "name": "stdout",
     "output_type": "stream",
     "text": [
      "20190724-094857\n"
     ]
    }
   ],
   "source": [
    "taskid = '{date:%Y%m%d-%H%M%S}'.format( date=datetime.now()) \n",
    "print(taskid)"
   ]
  },
  {
   "cell_type": "markdown",
   "metadata": {},
   "source": [
    "## Database Functions"
   ]
  },
  {
   "cell_type": "code",
   "execution_count": 78,
   "metadata": {},
   "outputs": [],
   "source": [
    "# Returns the connection to the database, opening a new one if there is none\n",
    "def get_db():\n",
    "        conn = psycopg2.connect(dbname='stockapp',\n",
    "                                user='stockapp_user',\n",
    "                                password='hunter2',\n",
    "                                host='db')\n",
    "        return conn"
   ]
  },
  {
   "cell_type": "code",
   "execution_count": 79,
   "metadata": {},
   "outputs": [],
   "source": [
    "def add_sys_log(action, status, message):\n",
    "    sql = \"\"\"\n",
    "            INSERT INTO sys_log (taskid, action, status, message, created_at)\n",
    "            VALUES (%s, %s, %s, %s, %s);\n",
    "          \"\"\"\n",
    "    db = get_db()\n",
    "    cur = db.cursor()\n",
    "    cur.execute(sql, (taskid, action, status, message, datetime.today()))\n",
    "    db.commit()\n",
    "    cur.close()\n",
    "    db.close()"
   ]
  },
  {
   "cell_type": "code",
   "execution_count": 80,
   "metadata": {},
   "outputs": [],
   "source": [
    "def add_proxy(proxy):\n",
    "    sql = \"\"\"\n",
    "            INSERT INTO proxy (taskid, proxy)\n",
    "            VALUES (%s, %s);\n",
    "          \"\"\"\n",
    "    db = get_db()\n",
    "    cur = db.cursor()\n",
    "    cur.execute(sql, (taskid, proxy))\n",
    "    db.commit()\n",
    "    cur.close()\n",
    "    db.close()"
   ]
  },
  {
   "cell_type": "markdown",
   "metadata": {},
   "source": [
    "## Scrape Proxy"
   ]
  },
  {
   "cell_type": "code",
   "execution_count": 84,
   "metadata": {},
   "outputs": [
    {
     "name": "stdout",
     "output_type": "stream",
     "text": [
      "getting proxy: 0\n",
      "getting proxy: 1\n",
      "getting proxy: 2\n",
      "getting proxy: 3\n",
      "getting proxy: 4\n",
      "getting proxy: 5\n",
      "getting proxy: 6\n",
      "getting proxy: 7\n",
      "getting proxy: 8\n",
      "getting proxy: 9\n",
      "getting proxy: 10\n",
      "getting proxy: 11\n",
      "getting proxy: 12\n",
      "getting proxy: 13\n",
      "getting proxy: 14\n",
      "getting proxy: 15\n",
      "getting proxy: 16\n",
      "getting proxy: 17\n",
      "getting proxy: 18\n",
      "getting proxy: 19\n",
      "getting proxy: 20\n",
      "getting proxy: 21\n",
      "getting proxy: 22\n",
      "getting proxy: 23\n",
      "getting proxy: 24\n",
      "getting proxy: 25\n",
      "getting proxy: 26\n",
      "getting proxy: 27\n",
      "getting proxy: 28\n",
      "getting proxy: 29\n",
      "getting proxy: 30\n",
      "getting proxy: 31\n",
      "getting proxy: 32\n",
      "getting proxy: 33\n",
      "getting proxy: 34\n",
      "getting proxy: 35\n",
      "getting proxy: 36\n",
      "getting proxy: 37\n",
      "getting proxy: 38\n",
      "getting proxy: 39\n",
      "getting proxy: 40\n",
      "getting proxy: 41\n",
      "getting proxy: 42\n",
      "getting proxy: 43\n",
      "getting proxy: 44\n",
      "getting proxy: 45\n",
      "getting proxy: 46\n",
      "getting proxy: 47\n",
      "getting proxy: 48\n",
      "getting proxy: 49\n"
     ]
    }
   ],
   "source": [
    "try:\n",
    "    # Create a collector for http resources\n",
    "    collector = proxyscrape.create_collector('MyProxy'+str(random.randint(100,10000)), 'https')  \n",
    "    \n",
    "    for i in range(50):\n",
    "        print('getting proxy:', i)\n",
    "        proxy = collector.get_proxy({'code': ('us', 'uk'), 'anonymous': True})\n",
    "        add_proxy(proxy.host+':'+proxy.port)\n",
    "    \n",
    "    # Write to Log\n",
    "    add_sys_log('get proxy', 'success', '')\n",
    "except:\n",
    "    print(\"AttributeError\")\n",
    "    add_sys_log('get proxy', 'fail', \"AttributeError\")"
   ]
  },
  {
   "cell_type": "code",
   "execution_count": null,
   "metadata": {},
   "outputs": [],
   "source": []
  }
 ],
 "metadata": {
  "kernelspec": {
   "display_name": "Python 3",
   "language": "python",
   "name": "python3"
  },
  "language_info": {
   "codemirror_mode": {
    "name": "ipython",
    "version": 3
   },
   "file_extension": ".py",
   "mimetype": "text/x-python",
   "name": "python",
   "nbconvert_exporter": "python",
   "pygments_lexer": "ipython3",
   "version": "3.7.3"
  }
 },
 "nbformat": 4,
 "nbformat_minor": 2
}
