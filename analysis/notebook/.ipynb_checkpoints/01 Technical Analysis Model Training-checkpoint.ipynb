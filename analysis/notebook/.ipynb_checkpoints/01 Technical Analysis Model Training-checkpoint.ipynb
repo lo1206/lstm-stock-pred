{
 "cells": [
  {
   "cell_type": "code",
   "execution_count": 1,
   "metadata": {},
   "outputs": [
    {
     "name": "stderr",
     "output_type": "stream",
     "text": [
      "Using TensorFlow backend.\n"
     ]
    }
   ],
   "source": [
    "# Data Processing Packages\n",
    "import csv\n",
    "import numpy as np \n",
    "import pandas as pd\n",
    "from random import randint\n",
    "import random\n",
    "from itertools import cycle\n",
    "import matplotlib.pyplot as plt\n",
    "\n",
    "# Date Packages\n",
    "from datetime import date, datetime\n",
    "\n",
    "# Machine Learning Packages\n",
    "from sklearn import preprocessing\n",
    "\n",
    "from keras.layers import *\n",
    "from keras.models import *\n",
    "from keras.layers import add\n",
    "\n",
    "# Stat Packages\n",
    "import matplotlib.pyplot as plt\n",
    "from scipy.stats import linregress\n",
    "\n",
    "# Flask Packages\n",
    "from flask import Flask, render_template, g, request, redirect, url_for\n",
    "\n",
    "# Database Packages\n",
    "import psycopg2\n",
    "\n",
    "import sys\n",
    "sys.path.append('../utils')\n",
    "\n",
    "from db_operator import Db_Operator"
   ]
  },
  {
   "cell_type": "code",
   "execution_count": 2,
   "metadata": {},
   "outputs": [
    {
     "name": "stdout",
     "output_type": "stream",
     "text": [
      "20190731-035230\n"
     ]
    }
   ],
   "source": [
    "taskid = '{date:%Y%m%d-%H%M%S}'.format( date=datetime.now()) \n",
    "print(taskid)\n",
    "\n",
    "dbo = Db_Operator(taskid)"
   ]
  },
  {
   "cell_type": "markdown",
   "metadata": {},
   "source": [
    "## Get Stock Price"
   ]
  },
  {
   "cell_type": "code",
   "execution_count": 3,
   "metadata": {},
   "outputs": [],
   "source": [
    "df_stock_price_all = dbo.show_stock_price()\n",
    "df_stock_price_all = df_stock_price_all.sort_values(by=['stockcode','date'])"
   ]
  },
  {
   "cell_type": "code",
   "execution_count": 4,
   "metadata": {},
   "outputs": [
    {
     "data": {
      "text/html": [
       "<div>\n",
       "<style scoped>\n",
       "    .dataframe tbody tr th:only-of-type {\n",
       "        vertical-align: middle;\n",
       "    }\n",
       "\n",
       "    .dataframe tbody tr th {\n",
       "        vertical-align: top;\n",
       "    }\n",
       "\n",
       "    .dataframe thead th {\n",
       "        text-align: right;\n",
       "    }\n",
       "</style>\n",
       "<table border=\"1\" class=\"dataframe\">\n",
       "  <thead>\n",
       "    <tr style=\"text-align: right;\">\n",
       "      <th></th>\n",
       "      <th>stockcode</th>\n",
       "      <th>date</th>\n",
       "      <th>open</th>\n",
       "      <th>high</th>\n",
       "      <th>low</th>\n",
       "      <th>close</th>\n",
       "      <th>adjclose</th>\n",
       "      <th>volume</th>\n",
       "    </tr>\n",
       "  </thead>\n",
       "  <tbody>\n",
       "    <tr>\n",
       "      <th>9637</th>\n",
       "      <td>0005.HK</td>\n",
       "      <td>2018-01-02</td>\n",
       "      <td>80.55</td>\n",
       "      <td>81.30</td>\n",
       "      <td>80.45</td>\n",
       "      <td>81.30</td>\n",
       "      <td>74.292</td>\n",
       "      <td>37060582.0</td>\n",
       "    </tr>\n",
       "    <tr>\n",
       "      <th>9680</th>\n",
       "      <td>0005.HK</td>\n",
       "      <td>2018-01-03</td>\n",
       "      <td>81.30</td>\n",
       "      <td>81.45</td>\n",
       "      <td>80.80</td>\n",
       "      <td>80.95</td>\n",
       "      <td>73.972</td>\n",
       "      <td>21680762.0</td>\n",
       "    </tr>\n",
       "    <tr>\n",
       "      <th>9723</th>\n",
       "      <td>0005.HK</td>\n",
       "      <td>2018-01-04</td>\n",
       "      <td>80.90</td>\n",
       "      <td>81.05</td>\n",
       "      <td>80.35</td>\n",
       "      <td>80.50</td>\n",
       "      <td>73.561</td>\n",
       "      <td>17205111.0</td>\n",
       "    </tr>\n",
       "    <tr>\n",
       "      <th>9766</th>\n",
       "      <td>0005.HK</td>\n",
       "      <td>2018-01-05</td>\n",
       "      <td>81.05</td>\n",
       "      <td>81.20</td>\n",
       "      <td>80.60</td>\n",
       "      <td>80.80</td>\n",
       "      <td>73.835</td>\n",
       "      <td>15902273.0</td>\n",
       "    </tr>\n",
       "    <tr>\n",
       "      <th>9809</th>\n",
       "      <td>0005.HK</td>\n",
       "      <td>2018-01-08</td>\n",
       "      <td>80.50</td>\n",
       "      <td>80.80</td>\n",
       "      <td>80.05</td>\n",
       "      <td>80.50</td>\n",
       "      <td>73.561</td>\n",
       "      <td>21354440.0</td>\n",
       "    </tr>\n",
       "  </tbody>\n",
       "</table>\n",
       "</div>"
      ],
      "text/plain": [
       "     stockcode        date   open   high    low  close  adjclose      volume\n",
       "9637   0005.HK  2018-01-02  80.55  81.30  80.45  81.30    74.292  37060582.0\n",
       "9680   0005.HK  2018-01-03  81.30  81.45  80.80  80.95    73.972  21680762.0\n",
       "9723   0005.HK  2018-01-04  80.90  81.05  80.35  80.50    73.561  17205111.0\n",
       "9766   0005.HK  2018-01-05  81.05  81.20  80.60  80.80    73.835  15902273.0\n",
       "9809   0005.HK  2018-01-08  80.50  80.80  80.05  80.50    73.561  21354440.0"
      ]
     },
     "execution_count": 4,
     "metadata": {},
     "output_type": "execute_result"
    }
   ],
   "source": [
    "df_stock_price_all.head()"
   ]
  },
  {
   "cell_type": "code",
   "execution_count": 5,
   "metadata": {},
   "outputs": [],
   "source": [
    "# Create Empty Dataframe\n",
    "df_stock_price = pd.DataFrame(columns=df_stock_price_all.columns.tolist()+['target'] )\n",
    "\n",
    "# Calculate rolling average as target for each stock\n",
    "for stock in df_stock_price_all.stockcode.unique():\n",
    "    df_tmp = df_stock_price_all[df_stock_price_all['stockcode']==stock].copy()\n",
    "    df_tmp['target'] = df_tmp['adjclose'].rolling(window=5).mean()\n",
    "    df_stock_price = df_stock_price.append(df_tmp)\n",
    "\n",
    "df_stock_price = df_stock_price[df_stock_price.target.notnull()]"
   ]
  },
  {
   "cell_type": "code",
   "execution_count": 6,
   "metadata": {},
   "outputs": [
    {
     "data": {
      "text/html": [
       "<div>\n",
       "<style scoped>\n",
       "    .dataframe tbody tr th:only-of-type {\n",
       "        vertical-align: middle;\n",
       "    }\n",
       "\n",
       "    .dataframe tbody tr th {\n",
       "        vertical-align: top;\n",
       "    }\n",
       "\n",
       "    .dataframe thead th {\n",
       "        text-align: right;\n",
       "    }\n",
       "</style>\n",
       "<table border=\"1\" class=\"dataframe\">\n",
       "  <thead>\n",
       "    <tr style=\"text-align: right;\">\n",
       "      <th></th>\n",
       "      <th>stockcode</th>\n",
       "      <th>date</th>\n",
       "      <th>open</th>\n",
       "      <th>high</th>\n",
       "      <th>low</th>\n",
       "      <th>close</th>\n",
       "      <th>adjclose</th>\n",
       "      <th>volume</th>\n",
       "      <th>target</th>\n",
       "    </tr>\n",
       "  </thead>\n",
       "  <tbody>\n",
       "    <tr>\n",
       "      <th>9422</th>\n",
       "      <td>6818.HK</td>\n",
       "      <td>2019-07-25</td>\n",
       "      <td>3.58</td>\n",
       "      <td>3.62</td>\n",
       "      <td>3.56</td>\n",
       "      <td>3.62</td>\n",
       "      <td>3.62</td>\n",
       "      <td>6596525.0</td>\n",
       "      <td>3.578</td>\n",
       "    </tr>\n",
       "    <tr>\n",
       "      <th>9465</th>\n",
       "      <td>6818.HK</td>\n",
       "      <td>2019-07-26</td>\n",
       "      <td>3.60</td>\n",
       "      <td>3.63</td>\n",
       "      <td>3.57</td>\n",
       "      <td>3.61</td>\n",
       "      <td>3.61</td>\n",
       "      <td>5416146.0</td>\n",
       "      <td>3.582</td>\n",
       "    </tr>\n",
       "    <tr>\n",
       "      <th>9508</th>\n",
       "      <td>6818.HK</td>\n",
       "      <td>2019-07-29</td>\n",
       "      <td>3.60</td>\n",
       "      <td>3.63</td>\n",
       "      <td>3.58</td>\n",
       "      <td>3.61</td>\n",
       "      <td>3.61</td>\n",
       "      <td>4383325.0</td>\n",
       "      <td>3.592</td>\n",
       "    </tr>\n",
       "    <tr>\n",
       "      <th>9551</th>\n",
       "      <td>6818.HK</td>\n",
       "      <td>2019-07-30</td>\n",
       "      <td>3.62</td>\n",
       "      <td>3.66</td>\n",
       "      <td>3.59</td>\n",
       "      <td>3.60</td>\n",
       "      <td>3.60</td>\n",
       "      <td>8732459.0</td>\n",
       "      <td>3.600</td>\n",
       "    </tr>\n",
       "    <tr>\n",
       "      <th>9594</th>\n",
       "      <td>6818.HK</td>\n",
       "      <td>2019-07-31</td>\n",
       "      <td>3.60</td>\n",
       "      <td>3.61</td>\n",
       "      <td>3.57</td>\n",
       "      <td>3.59</td>\n",
       "      <td>3.59</td>\n",
       "      <td>1421345.0</td>\n",
       "      <td>3.606</td>\n",
       "    </tr>\n",
       "  </tbody>\n",
       "</table>\n",
       "</div>"
      ],
      "text/plain": [
       "     stockcode        date  open  high   low  close  adjclose     volume  \\\n",
       "9422   6818.HK  2019-07-25  3.58  3.62  3.56   3.62      3.62  6596525.0   \n",
       "9465   6818.HK  2019-07-26  3.60  3.63  3.57   3.61      3.61  5416146.0   \n",
       "9508   6818.HK  2019-07-29  3.60  3.63  3.58   3.61      3.61  4383325.0   \n",
       "9551   6818.HK  2019-07-30  3.62  3.66  3.59   3.60      3.60  8732459.0   \n",
       "9594   6818.HK  2019-07-31  3.60  3.61  3.57   3.59      3.59  1421345.0   \n",
       "\n",
       "      target  \n",
       "9422   3.578  \n",
       "9465   3.582  \n",
       "9508   3.592  \n",
       "9551   3.600  \n",
       "9594   3.606  "
      ]
     },
     "execution_count": 6,
     "metadata": {},
     "output_type": "execute_result"
    }
   ],
   "source": [
    "df_stock_price.tail()"
   ]
  },
  {
   "cell_type": "code",
   "execution_count": 7,
   "metadata": {},
   "outputs": [],
   "source": [
    "categorical_cols = ['stockcode','date']\n",
    "numerical_cols = ['open', 'high', 'low', 'close', 'adjclose', 'volume', 'target']"
   ]
  },
  {
   "cell_type": "code",
   "execution_count": 8,
   "metadata": {},
   "outputs": [],
   "source": [
    "def normalize_df(df):\n",
    "    min_max_scaler = preprocessing.MinMaxScaler()\n",
    "    df[numerical_cols] = min_max_scaler.fit_transform(df[numerical_cols])\n",
    "    return df"
   ]
  },
  {
   "cell_type": "code",
   "execution_count": 9,
   "metadata": {},
   "outputs": [],
   "source": [
    "def get_df(seq_length):\n",
    "    \n",
    "    # Pick A Random Stock \n",
    "    while True:\n",
    "        stock = random.choice(df_stock_price.stockcode.unique())\n",
    "        df = df_stock_price[df_stock_price['stockcode']==stock].copy()\n",
    "        if len(df) > seq_length:\n",
    "            break\n",
    "    \n",
    "    # Get X, y of the stock\n",
    "    r = randint(0, len(df)-seq_length-1) \n",
    "    \n",
    "    df = df[numerical_cols][r:r+seq_length+1].copy()\n",
    "    df = normalize_df(df)\n",
    "    \n",
    "    X = df[0:seq_length].values\n",
    "    y = list(df['target'])[seq_length]\n",
    "    \n",
    "    return X, y"
   ]
  },
  {
   "cell_type": "code",
   "execution_count": 10,
   "metadata": {},
   "outputs": [],
   "source": [
    "seq_length = 50"
   ]
  },
  {
   "cell_type": "code",
   "execution_count": 11,
   "metadata": {},
   "outputs": [],
   "source": [
    "def sample(num_of_sample):\n",
    "\n",
    "    # Initialize sample vectors\n",
    "    X = np.zeros((num_of_sample, seq_length, len(numerical_cols)))\n",
    "    y = np.zeros((num_of_sample))\n",
    "    \n",
    "    n = 0\n",
    "    while n < num_of_sample:\n",
    "        # Generate random samples\n",
    "        X_single, y_single = get_df(seq_length)\n",
    "\n",
    "        X[n] = X_single\n",
    "        y[n] = y_single\n",
    "\n",
    "        n=n+1\n",
    "        if n % 1000 == 0:\n",
    "            print('sample:', n)\n",
    "\n",
    "    return X, y\n",
    "    "
   ]
  },
  {
   "cell_type": "code",
   "execution_count": null,
   "metadata": {},
   "outputs": [
    {
     "name": "stdout",
     "output_type": "stream",
     "text": [
      "sample: 1000\n",
      "sample: 2000\n",
      "sample: 3000\n"
     ]
    }
   ],
   "source": [
    "X_train, y_train = sample(100000)"
   ]
  },
  {
   "cell_type": "code",
   "execution_count": 17,
   "metadata": {},
   "outputs": [],
   "source": [
    "x = Input((seq_length,len(numerical_cols)))"
   ]
  },
  {
   "cell_type": "code",
   "execution_count": 18,
   "metadata": {},
   "outputs": [
    {
     "data": {
      "text/plain": [
       "(100000, 50, 7)"
      ]
     },
     "execution_count": 18,
     "metadata": {},
     "output_type": "execute_result"
    }
   ],
   "source": [
    "X_train.shape"
   ]
  },
  {
   "cell_type": "code",
   "execution_count": 19,
   "metadata": {},
   "outputs": [
    {
     "name": "stdout",
     "output_type": "stream",
     "text": [
      "WARNING:tensorflow:From /opt/conda/lib/python3.7/site-packages/tensorflow/python/framework/op_def_library.py:263: colocate_with (from tensorflow.python.framework.ops) is deprecated and will be removed in a future version.\n",
      "Instructions for updating:\n",
      "Colocations handled automatically by placer.\n",
      "WARNING:tensorflow:From /opt/conda/lib/python3.7/site-packages/keras/backend/tensorflow_backend.py:3445: calling dropout (from tensorflow.python.ops.nn_ops) with keep_prob is deprecated and will be removed in a future version.\n",
      "Instructions for updating:\n",
      "Please use `rate` instead of `keep_prob`. Rate should be set to `rate = 1 - keep_prob`.\n"
     ]
    }
   ],
   "source": [
    "Y = LSTM(units=50, return_sequences = True)(x)\n",
    "Y = Dropout(0.2)(Y)\n",
    "Y = LSTM(units=50, return_sequences = True)(Y)\n",
    "Y = Dropout(0.2)(Y)\n",
    "Y = LSTM(units=50)(Y)\n",
    "Y = Dense(10)(Y)\n",
    "Y = Dense(1)(Y)"
   ]
  },
  {
   "cell_type": "code",
   "execution_count": 20,
   "metadata": {},
   "outputs": [],
   "source": [
    "model = Model(inputs=[x], outputs=Y)\n",
    "model.compile(optimizer = 'adam', loss = 'mean_squared_error')"
   ]
  },
  {
   "cell_type": "code",
   "execution_count": 21,
   "metadata": {},
   "outputs": [
    {
     "name": "stdout",
     "output_type": "stream",
     "text": [
      "_________________________________________________________________\n",
      "Layer (type)                 Output Shape              Param #   \n",
      "=================================================================\n",
      "input_1 (InputLayer)         (None, 50, 7)             0         \n",
      "_________________________________________________________________\n",
      "lstm_1 (LSTM)                (None, 50, 50)            11600     \n",
      "_________________________________________________________________\n",
      "dropout_1 (Dropout)          (None, 50, 50)            0         \n",
      "_________________________________________________________________\n",
      "lstm_2 (LSTM)                (None, 50, 50)            20200     \n",
      "_________________________________________________________________\n",
      "dropout_2 (Dropout)          (None, 50, 50)            0         \n",
      "_________________________________________________________________\n",
      "lstm_3 (LSTM)                (None, 50)                20200     \n",
      "_________________________________________________________________\n",
      "dense_1 (Dense)              (None, 10)                510       \n",
      "_________________________________________________________________\n",
      "dense_2 (Dense)              (None, 1)                 11        \n",
      "=================================================================\n",
      "Total params: 52,521\n",
      "Trainable params: 52,521\n",
      "Non-trainable params: 0\n",
      "_________________________________________________________________\n"
     ]
    }
   ],
   "source": [
    "model.summary()"
   ]
  },
  {
   "cell_type": "code",
   "execution_count": 22,
   "metadata": {},
   "outputs": [
    {
     "name": "stdout",
     "output_type": "stream",
     "text": [
      "WARNING:tensorflow:From /opt/conda/lib/python3.7/site-packages/tensorflow/python/ops/math_ops.py:3066: to_int32 (from tensorflow.python.ops.math_ops) is deprecated and will be removed in a future version.\n",
      "Instructions for updating:\n",
      "Use tf.cast instead.\n",
      "Epoch 1/5\n",
      "    96/100000 [..............................] - ETA: 1:09:24 - loss: 0.3436"
     ]
    },
    {
     "name": "stderr",
     "output_type": "stream",
     "text": [
      "/opt/conda/lib/python3.7/site-packages/keras/callbacks.py:122: UserWarning: Method on_batch_end() is slow compared to the batch update (0.338503). Check your callbacks.\n",
      "  % delta_t_median)\n"
     ]
    },
    {
     "name": "stdout",
     "output_type": "stream",
     "text": [
      "100000/100000 [==============================] - 407s 4ms/step - loss: 0.0062\n",
      "Epoch 2/5\n",
      "100000/100000 [==============================] - 407s 4ms/step - loss: 0.0025\n",
      "Epoch 3/5\n",
      "100000/100000 [==============================] - 415s 4ms/step - loss: 0.0021\n",
      "Epoch 4/5\n",
      "100000/100000 [==============================] - 410s 4ms/step - loss: 0.0018\n",
      "Epoch 5/5\n",
      "100000/100000 [==============================] - 411s 4ms/step - loss: 0.0016\n"
     ]
    },
    {
     "data": {
      "text/plain": [
       "<keras.callbacks.History at 0x7f7efeee7a20>"
      ]
     },
     "execution_count": 22,
     "metadata": {},
     "output_type": "execute_result"
    }
   ],
   "source": [
    "model.fit(X_train, y_train, epochs = 5, batch_size = 32)"
   ]
  },
  {
   "cell_type": "code",
   "execution_count": 473,
   "metadata": {},
   "outputs": [
    {
     "name": "stdout",
     "output_type": "stream",
     "text": [
      "Saved model to disk\n"
     ]
    }
   ],
   "source": [
    "model.save(\"../model/TA model.h5\")\n",
    "print(\"Saved model to disk\")"
   ]
  },
  {
   "cell_type": "markdown",
   "metadata": {},
   "source": [
    "### Check Prediction"
   ]
  },
  {
   "cell_type": "code",
   "execution_count": 361,
   "metadata": {},
   "outputs": [
    {
     "name": "stdout",
     "output_type": "stream",
     "text": [
      "0005.HK\n",
      "0011.HK\n",
      "0023.HK\n",
      "0222.HK\n",
      "0416.HK\n",
      "0440.HK\n",
      "0626.HK\n",
      "0939.HK\n",
      "0998.HK\n",
      "1111.HK\n",
      "1216.HK\n",
      "1288.HK\n",
      "1398.HK\n",
      "1551.HK\n",
      "1578.HK\n",
      "1658.HK\n",
      "1963.HK\n",
      "1988.HK\n",
      "2016.HK\n",
      "2066.HK\n",
      "2356.HK\n",
      "2388.HK\n",
      "2888.HK\n",
      "3328.HK\n",
      "3618.HK\n",
      "3698.HK\n",
      "3866.HK\n",
      "3968.HK\n",
      "3988.HK\n",
      "6122.HK\n",
      "6138.HK\n",
      "6196.HK\n",
      "6818.HK\n"
     ]
    }
   ],
   "source": [
    "for stock in df_stock_price_all.stockcode.unique():\n",
    "    print(stock)"
   ]
  },
  {
   "cell_type": "markdown",
   "metadata": {},
   "source": [
    "### Predict Stock Price"
   ]
  },
  {
   "cell_type": "code",
   "execution_count": 399,
   "metadata": {},
   "outputs": [
    {
     "data": {
      "text/plain": [
       "3.265999999999994"
      ]
     },
     "execution_count": 399,
     "metadata": {},
     "output_type": "execute_result"
    }
   ],
   "source": [
    "list(df['target'])[378]"
   ]
  },
  {
   "cell_type": "code",
   "execution_count": 470,
   "metadata": {},
   "outputs": [],
   "source": [
    "def get_df_pred(stock):\n",
    "    \n",
    "    num_of_sample = 100\n",
    "    \n",
    "    X = np.zeros((num_of_sample + 1, seq_length, len(numerical_cols)))\n",
    "    y = np.zeros((num_of_sample + 1))\n",
    "    \n",
    "    # Pick A Random Stock \n",
    "    df = df_stock_price[df_stock_price['stockcode']==stock].copy()\n",
    "    df = normalize_df(df)\n",
    "    \n",
    "    print('df:',len(df))\n",
    "    \n",
    "    # Get X, y of the stock\n",
    "    n = 0\n",
    "    while n < num_of_sample:\n",
    "        remain = num_of_sample - n \n",
    "        X[n] = df[numerical_cols][-seq_length-remain:-remain].values\n",
    "        y[n] = list(df['target'])[-remain]\n",
    "        n = n + 1\n",
    "    \n",
    "    X[num_of_sample] = df[numerical_cols][-seq_length:].values\n",
    "    y[num_of_sample] = None\n",
    "    return X, y"
   ]
  },
  {
   "cell_type": "code",
   "execution_count": 472,
   "metadata": {},
   "outputs": [
    {
     "name": "stdout",
     "output_type": "stream",
     "text": [
      "df: 379\n"
     ]
    },
    {
     "data": {
      "text/plain": [
       "[<matplotlib.lines.Line2D at 0x7f206a9172e8>]"
      ]
     },
     "execution_count": 472,
     "metadata": {},
     "output_type": "execute_result"
    },
    {
     "data": {
      "image/png": "[encoded data removed]",
      "text/plain": [
       "<Figure size 432x288 with 1 Axes>"
      ]
     },
     "metadata": {
      "needs_background": "light"
     },
     "output_type": "display_data"
    }
   ],
   "source": [
    "X_Ori, y_Ori = get_df_pred('1988.HK')\n",
    "y_pred = model.predict(X_Ori)\n",
    "plt.plot(y_Ori)\n",
    "plt.plot(y_pred)"
   ]
  },
  {
   "cell_type": "code",
   "execution_count": null,
   "metadata": {},
   "outputs": [],
   "source": []
  }
 ],
 "metadata": {
  "kernelspec": {
   "display_name": "Python 3",
   "language": "python",
   "name": "python3"
  },
  "language_info": {
   "codemirror_mode": {
    "name": "ipython",
    "version": 3
   },
   "file_extension": ".py",
   "mimetype": "text/x-python",
   "name": "python",
   "nbconvert_exporter": "python",
   "pygments_lexer": "ipython3",
   "version": "3.7.3"
  }
 },
 "nbformat": 4,
 "nbformat_minor": 1
}
