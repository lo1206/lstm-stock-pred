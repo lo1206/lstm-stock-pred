{
 "cells": [
  {
   "cell_type": "code",
   "execution_count": 1,
   "metadata": {},
   "outputs": [],
   "source": [
    "# Date Packages\n",
    "from datetime import date, datetime\n",
    "\n",
    "# Database Packages\n",
    "import psycopg2\n",
    "\n",
    "# Yahoo Finance Packages\n",
    "import yfinance as yf\n",
    "\n",
    "# Timeout Packages\n",
    "from interruptingcow import timeout"
   ]
  },
  {
   "cell_type": "code",
   "execution_count": 2,
   "metadata": {},
   "outputs": [],
   "source": [
    "# Returns the connection to the database, opening a new one if there is none\n",
    "def get_db():\n",
    "        conn = psycopg2.connect(dbname='stockapp',\n",
    "                                user='stockapp_user',\n",
    "                                password='hunter2',\n",
    "                                host='db')\n",
    "        return conn"
   ]
  },
  {
   "cell_type": "markdown",
   "metadata": {},
   "source": [
    "## Download Stock Price Data"
   ]
  },
  {
   "cell_type": "code",
   "execution_count": null,
   "metadata": {},
   "outputs": [],
   "source": [
    "# Select Stocks\n",
    "df_stock = df_stock_master[df_stock_master.industryclassification =='銀行']\n",
    "stocks = df_stock['stockcode'].tolist()\n",
    "\n",
    "# Select Time period\n",
    "start = datetime(2018,1,1)\n",
    "end = datetime.today()\n",
    "\n",
    "# Create Empty Stock Price Table\n",
    "col_names = ['Stock Code', 'Date', 'Open', 'High', 'Low', 'Close', 'Adj Close', 'Volume']\n",
    "df_stockprice = pd.DataFrame(columns = col_names)"
   ]
  },
  {
   "cell_type": "code",
   "execution_count": null,
   "metadata": {},
   "outputs": [],
   "source": [
    "# Get stock price from selected stocks\n",
    "for stock in stocks:\n",
    "    \n",
    "    # Download Stock Price\n",
    "    isDownloaded = False\n",
    "    error_count = 0\n",
    "    while isDownloaded == False or error_count>10:\n",
    "        try:\n",
    "            # Get new proxy\n",
    "            proxy = next(proxy_pool)\n",
    "            print('--------------------------------------------------------')\n",
    "            print('stock: ', stock, ' using proxy: ', proxy)\n",
    "            \n",
    "            # Download within 5 seconds\n",
    "            with timeout(5, exception=RuntimeError):\n",
    "                data = yf.download(tickers=stock, start=start, end=end, proxy=proxy)\n",
    "                isDownloaded = True\n",
    "        except:\n",
    "            print(\"Proxy Error\")\n",
    "            error_count = error_count + 1\n",
    "    \n",
    "    data['Date'] = data.index\n",
    "    data['Stock Code'] = stock\n",
    "    df_stockprice = df_stockprice.append(data, sort=False)\n",
    "\n",
    "df_stockprice = df_stockprice[col_names]"
   ]
  }
 ],
 "metadata": {
  "kernelspec": {
   "display_name": "Python 3",
   "language": "python",
   "name": "python3"
  },
  "language_info": {
   "codemirror_mode": {
    "name": "ipython",
    "version": 3
   },
   "file_extension": ".py",
   "mimetype": "text/x-python",
   "name": "python",
   "nbconvert_exporter": "python",
   "pygments_lexer": "ipython3",
   "version": "3.7.3"
  }
 },
 "nbformat": 4,
 "nbformat_minor": 2
}
