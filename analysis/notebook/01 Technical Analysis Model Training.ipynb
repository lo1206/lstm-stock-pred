{
 "cells": [
  {
   "cell_type": "code",
   "execution_count": 2,
   "metadata": {},
   "outputs": [],
   "source": [
    "# Data Processing Packages\n",
    "import csv\n",
    "import numpy as np \n",
    "import pandas as pd\n",
    "from random import randint\n",
    "import random\n",
    "from itertools import cycle\n",
    "import matplotlib.pyplot as plt\n",
    "\n",
    "# Date Packages\n",
    "from datetime import date, datetime\n",
    "\n",
    "# Machine Learning Packages\n",
    "from sklearn import preprocessing\n",
    "\n",
    "from keras.layers import *\n",
    "from keras.models import *\n",
    "from keras.layers import add\n",
    "\n",
    "# Stat Packages\n",
    "import matplotlib.pyplot as plt\n",
    "from scipy.stats import linregress\n",
    "\n",
    "# Flask Packages\n",
    "from flask import Flask, render_template, g, request, redirect, url_for\n",
    "\n",
    "# Database Packages\n",
    "import psycopg2\n",
    "\n",
    "import sys\n",
    "sys.path.append('../utils')\n",
    "\n",
    "import db"
   ]
  },
  {
   "cell_type": "code",
   "execution_count": 4,
   "metadata": {},
   "outputs": [
    {
     "name": "stdout",
     "output_type": "stream",
     "text": [
      "20190731-050222\n"
     ]
    }
   ],
   "source": [
    "taskid = '{date:%Y%m%d-%H%M%S}'.format( date=datetime.now()) \n",
    "print(taskid)"
   ]
  },
  {
   "cell_type": "markdown",
   "metadata": {},
   "source": [
    "## Get Stock Price"
   ]
  },
  {
   "cell_type": "code",
   "execution_count": 6,
   "metadata": {},
   "outputs": [],
   "source": [
    "df_stock_price_all = db.show_stock_price()\n",
    "df_stock_price_all = df_stock_price_all.sort_values(by=['stockcode','date'])"
   ]
  },
  {
   "cell_type": "code",
   "execution_count": 7,
   "metadata": {},
   "outputs": [
    {
     "data": {
      "text/html": [
       "<div>\n",
       "<style scoped>\n",
       "    .dataframe tbody tr th:only-of-type {\n",
       "        vertical-align: middle;\n",
       "    }\n",
       "\n",
       "    .dataframe tbody tr th {\n",
       "        vertical-align: top;\n",
       "    }\n",
       "\n",
       "    .dataframe thead th {\n",
       "        text-align: right;\n",
       "    }\n",
       "</style>\n",
       "<table border=\"1\" class=\"dataframe\">\n",
       "  <thead>\n",
       "    <tr style=\"text-align: right;\">\n",
       "      <th></th>\n",
       "      <th>stockcode</th>\n",
       "      <th>date</th>\n",
       "      <th>open</th>\n",
       "      <th>high</th>\n",
       "      <th>low</th>\n",
       "      <th>close</th>\n",
       "      <th>adjclose</th>\n",
       "      <th>volume</th>\n",
       "    </tr>\n",
       "  </thead>\n",
       "  <tbody>\n",
       "    <tr>\n",
       "      <th>9637</th>\n",
       "      <td>0005.HK</td>\n",
       "      <td>2018-01-02</td>\n",
       "      <td>80.55</td>\n",
       "      <td>81.30</td>\n",
       "      <td>80.45</td>\n",
       "      <td>81.30</td>\n",
       "      <td>74.292</td>\n",
       "      <td>37060582.0</td>\n",
       "    </tr>\n",
       "    <tr>\n",
       "      <th>9680</th>\n",
       "      <td>0005.HK</td>\n",
       "      <td>2018-01-03</td>\n",
       "      <td>81.30</td>\n",
       "      <td>81.45</td>\n",
       "      <td>80.80</td>\n",
       "      <td>80.95</td>\n",
       "      <td>73.972</td>\n",
       "      <td>21680762.0</td>\n",
       "    </tr>\n",
       "    <tr>\n",
       "      <th>9723</th>\n",
       "      <td>0005.HK</td>\n",
       "      <td>2018-01-04</td>\n",
       "      <td>80.90</td>\n",
       "      <td>81.05</td>\n",
       "      <td>80.35</td>\n",
       "      <td>80.50</td>\n",
       "      <td>73.561</td>\n",
       "      <td>17205111.0</td>\n",
       "    </tr>\n",
       "    <tr>\n",
       "      <th>9766</th>\n",
       "      <td>0005.HK</td>\n",
       "      <td>2018-01-05</td>\n",
       "      <td>81.05</td>\n",
       "      <td>81.20</td>\n",
       "      <td>80.60</td>\n",
       "      <td>80.80</td>\n",
       "      <td>73.835</td>\n",
       "      <td>15902273.0</td>\n",
       "    </tr>\n",
       "    <tr>\n",
       "      <th>9809</th>\n",
       "      <td>0005.HK</td>\n",
       "      <td>2018-01-08</td>\n",
       "      <td>80.50</td>\n",
       "      <td>80.80</td>\n",
       "      <td>80.05</td>\n",
       "      <td>80.50</td>\n",
       "      <td>73.561</td>\n",
       "      <td>21354440.0</td>\n",
       "    </tr>\n",
       "  </tbody>\n",
       "</table>\n",
       "</div>"
      ],
      "text/plain": [
       "     stockcode        date   open   high    low  close  adjclose      volume\n",
       "9637   0005.HK  2018-01-02  80.55  81.30  80.45  81.30    74.292  37060582.0\n",
       "9680   0005.HK  2018-01-03  81.30  81.45  80.80  80.95    73.972  21680762.0\n",
       "9723   0005.HK  2018-01-04  80.90  81.05  80.35  80.50    73.561  17205111.0\n",
       "9766   0005.HK  2018-01-05  81.05  81.20  80.60  80.80    73.835  15902273.0\n",
       "9809   0005.HK  2018-01-08  80.50  80.80  80.05  80.50    73.561  21354440.0"
      ]
     },
     "execution_count": 7,
     "metadata": {},
     "output_type": "execute_result"
    }
   ],
   "source": [
    "df_stock_price_all.head()"
   ]
  },
  {
   "cell_type": "code",
   "execution_count": 8,
   "metadata": {},
   "outputs": [],
   "source": [
    "# Create Empty Dataframe\n",
    "df_stock_price = pd.DataFrame(columns=df_stock_price_all.columns.tolist()+['target'] )\n",
    "\n",
    "# Calculate rolling average as target for each stock\n",
    "for stock in df_stock_price_all.stockcode.unique():\n",
    "    df_tmp = df_stock_price_all[df_stock_price_all['stockcode']==stock].copy()\n",
    "    df_tmp['target'] = df_tmp['adjclose'].rolling(window=5).mean()\n",
    "    df_stock_price = df_stock_price.append(df_tmp)\n",
    "\n",
    "df_stock_price = df_stock_price[df_stock_price.target.notnull()]"
   ]
  },
  {
   "cell_type": "code",
   "execution_count": 9,
   "metadata": {},
   "outputs": [
    {
     "data": {
      "text/html": [
       "<div>\n",
       "<style scoped>\n",
       "    .dataframe tbody tr th:only-of-type {\n",
       "        vertical-align: middle;\n",
       "    }\n",
       "\n",
       "    .dataframe tbody tr th {\n",
       "        vertical-align: top;\n",
       "    }\n",
       "\n",
       "    .dataframe thead th {\n",
       "        text-align: right;\n",
       "    }\n",
       "</style>\n",
       "<table border=\"1\" class=\"dataframe\">\n",
       "  <thead>\n",
       "    <tr style=\"text-align: right;\">\n",
       "      <th></th>\n",
       "      <th>stockcode</th>\n",
       "      <th>date</th>\n",
       "      <th>open</th>\n",
       "      <th>high</th>\n",
       "      <th>low</th>\n",
       "      <th>close</th>\n",
       "      <th>adjclose</th>\n",
       "      <th>volume</th>\n",
       "      <th>target</th>\n",
       "    </tr>\n",
       "  </thead>\n",
       "  <tbody>\n",
       "    <tr>\n",
       "      <th>9422</th>\n",
       "      <td>6818.HK</td>\n",
       "      <td>2019-07-25</td>\n",
       "      <td>3.58</td>\n",
       "      <td>3.62</td>\n",
       "      <td>3.56</td>\n",
       "      <td>3.62</td>\n",
       "      <td>3.62</td>\n",
       "      <td>6596525.0</td>\n",
       "      <td>3.578</td>\n",
       "    </tr>\n",
       "    <tr>\n",
       "      <th>9465</th>\n",
       "      <td>6818.HK</td>\n",
       "      <td>2019-07-26</td>\n",
       "      <td>3.60</td>\n",
       "      <td>3.63</td>\n",
       "      <td>3.57</td>\n",
       "      <td>3.61</td>\n",
       "      <td>3.61</td>\n",
       "      <td>5416146.0</td>\n",
       "      <td>3.582</td>\n",
       "    </tr>\n",
       "    <tr>\n",
       "      <th>9508</th>\n",
       "      <td>6818.HK</td>\n",
       "      <td>2019-07-29</td>\n",
       "      <td>3.60</td>\n",
       "      <td>3.63</td>\n",
       "      <td>3.58</td>\n",
       "      <td>3.61</td>\n",
       "      <td>3.61</td>\n",
       "      <td>4383325.0</td>\n",
       "      <td>3.592</td>\n",
       "    </tr>\n",
       "    <tr>\n",
       "      <th>9551</th>\n",
       "      <td>6818.HK</td>\n",
       "      <td>2019-07-30</td>\n",
       "      <td>3.62</td>\n",
       "      <td>3.66</td>\n",
       "      <td>3.59</td>\n",
       "      <td>3.60</td>\n",
       "      <td>3.60</td>\n",
       "      <td>8732459.0</td>\n",
       "      <td>3.600</td>\n",
       "    </tr>\n",
       "    <tr>\n",
       "      <th>9594</th>\n",
       "      <td>6818.HK</td>\n",
       "      <td>2019-07-31</td>\n",
       "      <td>3.60</td>\n",
       "      <td>3.61</td>\n",
       "      <td>3.57</td>\n",
       "      <td>3.59</td>\n",
       "      <td>3.59</td>\n",
       "      <td>1421345.0</td>\n",
       "      <td>3.606</td>\n",
       "    </tr>\n",
       "  </tbody>\n",
       "</table>\n",
       "</div>"
      ],
      "text/plain": [
       "     stockcode        date  open  high   low  close  adjclose     volume  \\\n",
       "9422   6818.HK  2019-07-25  3.58  3.62  3.56   3.62      3.62  6596525.0   \n",
       "9465   6818.HK  2019-07-26  3.60  3.63  3.57   3.61      3.61  5416146.0   \n",
       "9508   6818.HK  2019-07-29  3.60  3.63  3.58   3.61      3.61  4383325.0   \n",
       "9551   6818.HK  2019-07-30  3.62  3.66  3.59   3.60      3.60  8732459.0   \n",
       "9594   6818.HK  2019-07-31  3.60  3.61  3.57   3.59      3.59  1421345.0   \n",
       "\n",
       "      target  \n",
       "9422   3.578  \n",
       "9465   3.582  \n",
       "9508   3.592  \n",
       "9551   3.600  \n",
       "9594   3.606  "
      ]
     },
     "execution_count": 9,
     "metadata": {},
     "output_type": "execute_result"
    }
   ],
   "source": [
    "df_stock_price.tail()"
   ]
  },
  {
   "cell_type": "code",
   "execution_count": 10,
   "metadata": {},
   "outputs": [],
   "source": [
    "categorical_cols = ['stockcode','date']\n",
    "numerical_cols = ['open', 'high', 'low', 'close', 'adjclose', 'volume', 'target']"
   ]
  },
  {
   "cell_type": "code",
   "execution_count": 11,
   "metadata": {},
   "outputs": [],
   "source": [
    "def normalize_df(df):\n",
    "    min_max_scaler = preprocessing.MinMaxScaler()\n",
    "    df[numerical_cols] = min_max_scaler.fit_transform(df[numerical_cols])\n",
    "    return df"
   ]
  },
  {
   "cell_type": "code",
   "execution_count": 12,
   "metadata": {},
   "outputs": [],
   "source": [
    "def get_df(seq_length):\n",
    "    \n",
    "    # Pick A Random Stock \n",
    "    while True:\n",
    "        stock = random.choice(df_stock_price.stockcode.unique())\n",
    "        df = df_stock_price[df_stock_price['stockcode']==stock].copy()\n",
    "        if len(df) > seq_length:\n",
    "            break\n",
    "    \n",
    "    # Get X, y of the stock\n",
    "    r = randint(0, len(df)-seq_length-1) \n",
    "    \n",
    "    df = df[numerical_cols][r:r+seq_length+1].copy()\n",
    "    df = normalize_df(df)\n",
    "    \n",
    "    X = df[0:seq_length].values\n",
    "    y = list(df['target'])[seq_length]\n",
    "    \n",
    "    return X, y"
   ]
  },
  {
   "cell_type": "code",
   "execution_count": 13,
   "metadata": {},
   "outputs": [],
   "source": [
    "seq_length = 50"
   ]
  },
  {
   "cell_type": "code",
   "execution_count": 14,
   "metadata": {},
   "outputs": [],
   "source": [
    "def sample(num_of_sample):\n",
    "\n",
    "    # Initialize sample vectors\n",
    "    X = np.zeros((num_of_sample, seq_length, len(numerical_cols)))\n",
    "    y = np.zeros((num_of_sample))\n",
    "    \n",
    "    n = 0\n",
    "    while n < num_of_sample:\n",
    "        # Generate random samples\n",
    "        X_single, y_single = get_df(seq_length)\n",
    "\n",
    "        X[n] = X_single\n",
    "        y[n] = y_single\n",
    "\n",
    "        n=n+1\n",
    "        if n % 1000 == 0:\n",
    "            print('sample:', n)\n",
    "\n",
    "    return X, y\n",
    "    "
   ]
  },
  {
   "cell_type": "code",
   "execution_count": 15,
   "metadata": {},
   "outputs": [
    {
     "name": "stdout",
     "output_type": "stream",
     "text": [
      "sample: 1000\n",
      "sample: 2000\n",
      "sample: 3000\n",
      "sample: 4000\n",
      "sample: 5000\n",
      "sample: 6000\n",
      "sample: 7000\n",
      "sample: 8000\n",
      "sample: 9000\n",
      "sample: 10000\n",
      "sample: 11000\n",
      "sample: 12000\n",
      "sample: 13000\n",
      "sample: 14000\n",
      "sample: 15000\n",
      "sample: 16000\n",
      "sample: 17000\n",
      "sample: 18000\n",
      "sample: 19000\n",
      "sample: 20000\n",
      "sample: 21000\n",
      "sample: 22000\n",
      "sample: 23000\n",
      "sample: 24000\n",
      "sample: 25000\n",
      "sample: 26000\n",
      "sample: 27000\n",
      "sample: 28000\n",
      "sample: 29000\n",
      "sample: 30000\n",
      "sample: 31000\n",
      "sample: 32000\n",
      "sample: 33000\n",
      "sample: 34000\n",
      "sample: 35000\n",
      "sample: 36000\n",
      "sample: 37000\n",
      "sample: 38000\n",
      "sample: 39000\n",
      "sample: 40000\n",
      "sample: 41000\n",
      "sample: 42000\n",
      "sample: 43000\n",
      "sample: 44000\n",
      "sample: 45000\n",
      "sample: 46000\n",
      "sample: 47000\n",
      "sample: 48000\n",
      "sample: 49000\n",
      "sample: 50000\n",
      "sample: 51000\n",
      "sample: 52000\n",
      "sample: 53000\n",
      "sample: 54000\n",
      "sample: 55000\n",
      "sample: 56000\n",
      "sample: 57000\n",
      "sample: 58000\n",
      "sample: 59000\n",
      "sample: 60000\n",
      "sample: 61000\n",
      "sample: 62000\n",
      "sample: 63000\n",
      "sample: 64000\n",
      "sample: 65000\n",
      "sample: 66000\n",
      "sample: 67000\n",
      "sample: 68000\n",
      "sample: 69000\n",
      "sample: 70000\n",
      "sample: 71000\n",
      "sample: 72000\n",
      "sample: 73000\n",
      "sample: 74000\n",
      "sample: 75000\n",
      "sample: 76000\n",
      "sample: 77000\n",
      "sample: 78000\n",
      "sample: 79000\n",
      "sample: 80000\n",
      "sample: 81000\n",
      "sample: 82000\n",
      "sample: 83000\n",
      "sample: 84000\n",
      "sample: 85000\n",
      "sample: 86000\n",
      "sample: 87000\n",
      "sample: 88000\n",
      "sample: 89000\n",
      "sample: 90000\n",
      "sample: 91000\n",
      "sample: 92000\n",
      "sample: 93000\n",
      "sample: 94000\n",
      "sample: 95000\n",
      "sample: 96000\n",
      "sample: 97000\n",
      "sample: 98000\n",
      "sample: 99000\n",
      "sample: 100000\n"
     ]
    }
   ],
   "source": [
    "X_train, y_train = sample(100000)"
   ]
  },
  {
   "cell_type": "code",
   "execution_count": 31,
   "metadata": {},
   "outputs": [],
   "source": [
    "x = Input((seq_length,len(numerical_cols)))"
   ]
  },
  {
   "cell_type": "code",
   "execution_count": 28,
   "metadata": {},
   "outputs": [
    {
     "data": {
      "text/plain": [
       "(100000, 50, 7)"
      ]
     },
     "execution_count": 28,
     "metadata": {},
     "output_type": "execute_result"
    }
   ],
   "source": [
    "X_train.shape"
   ]
  },
  {
   "cell_type": "code",
   "execution_count": 35,
   "metadata": {},
   "outputs": [],
   "source": [
    "Y = LSTM(units=20, return_sequences = True)(x)\n",
    "Y = Dropout(0.3)(Y)\n",
    "Y = LSTM(units=20, return_sequences = True)(Y)\n",
    "Y = Dropout(0.3)(Y)\n",
    "Y = LSTM(units=20)(Y)\n",
    "Y = Dense(20)(Y)\n",
    "Y = Dense(20)(Y)\n",
    "Y = Dense(1)(Y)"
   ]
  },
  {
   "cell_type": "code",
   "execution_count": 36,
   "metadata": {},
   "outputs": [],
   "source": [
    "model = Model(inputs=[x], outputs=Y)\n",
    "model.compile(optimizer = 'adam', loss = 'mean_squared_error')"
   ]
  },
  {
   "cell_type": "code",
   "execution_count": 37,
   "metadata": {},
   "outputs": [
    {
     "name": "stdout",
     "output_type": "stream",
     "text": [
      "_________________________________________________________________\n",
      "Layer (type)                 Output Shape              Param #   \n",
      "=================================================================\n",
      "input_3 (InputLayer)         (None, 50, 7)             0         \n",
      "_________________________________________________________________\n",
      "lstm_13 (LSTM)               (None, 50, 20)            2240      \n",
      "_________________________________________________________________\n",
      "dropout_9 (Dropout)          (None, 50, 20)            0         \n",
      "_________________________________________________________________\n",
      "lstm_14 (LSTM)               (None, 50, 20)            3280      \n",
      "_________________________________________________________________\n",
      "dropout_10 (Dropout)         (None, 50, 20)            0         \n",
      "_________________________________________________________________\n",
      "lstm_15 (LSTM)               (None, 20)                3280      \n",
      "_________________________________________________________________\n",
      "dense_9 (Dense)              (None, 20)                420       \n",
      "_________________________________________________________________\n",
      "dense_10 (Dense)             (None, 20)                420       \n",
      "_________________________________________________________________\n",
      "dense_11 (Dense)             (None, 1)                 21        \n",
      "=================================================================\n",
      "Total params: 9,661\n",
      "Trainable params: 9,661\n",
      "Non-trainable params: 0\n",
      "_________________________________________________________________\n"
     ]
    }
   ],
   "source": [
    "model.summary()"
   ]
  },
  {
   "cell_type": "code",
   "execution_count": 38,
   "metadata": {},
   "outputs": [
    {
     "name": "stdout",
     "output_type": "stream",
     "text": [
      "Train on 90000 samples, validate on 10000 samples\n",
      "Epoch 1/2\n",
      "90000/90000 [==============================] - 296s 3ms/step - loss: 0.0096 - val_loss: 0.0025\n",
      "Epoch 2/2\n",
      "90000/90000 [==============================] - 284s 3ms/step - loss: 0.0037 - val_loss: 0.0023\n"
     ]
    },
    {
     "data": {
      "text/plain": [
       "<keras.callbacks.History at 0x7faa860a1080>"
      ]
     },
     "execution_count": 38,
     "metadata": {},
     "output_type": "execute_result"
    }
   ],
   "source": [
    "model.fit(X_train, y_train, validation_split=0.1, epochs = 2, batch_size = 32)"
   ]
  },
  {
   "cell_type": "code",
   "execution_count": 43,
   "metadata": {},
   "outputs": [
    {
     "name": "stdout",
     "output_type": "stream",
     "text": [
      "Saved model to disk\n"
     ]
    }
   ],
   "source": [
    "model.save(\"TA model v2.h5\")\n",
    "print(\"Saved model to disk\")"
   ]
  },
  {
   "cell_type": "markdown",
   "metadata": {},
   "source": [
    "### Check Prediction"
   ]
  },
  {
   "cell_type": "code",
   "execution_count": 361,
   "metadata": {},
   "outputs": [
    {
     "name": "stdout",
     "output_type": "stream",
     "text": [
      "0005.HK\n",
      "0011.HK\n",
      "0023.HK\n",
      "0222.HK\n",
      "0416.HK\n",
      "0440.HK\n",
      "0626.HK\n",
      "0939.HK\n",
      "0998.HK\n",
      "1111.HK\n",
      "1216.HK\n",
      "1288.HK\n",
      "1398.HK\n",
      "1551.HK\n",
      "1578.HK\n",
      "1658.HK\n",
      "1963.HK\n",
      "1988.HK\n",
      "2016.HK\n",
      "2066.HK\n",
      "2356.HK\n",
      "2388.HK\n",
      "2888.HK\n",
      "3328.HK\n",
      "3618.HK\n",
      "3698.HK\n",
      "3866.HK\n",
      "3968.HK\n",
      "3988.HK\n",
      "6122.HK\n",
      "6138.HK\n",
      "6196.HK\n",
      "6818.HK\n"
     ]
    }
   ],
   "source": [
    "for stock in df_stock_price_all.stockcode.unique():\n",
    "    print(stock)"
   ]
  },
  {
   "cell_type": "markdown",
   "metadata": {},
   "source": [
    "### Predict Stock Price"
   ]
  },
  {
   "cell_type": "code",
   "execution_count": 399,
   "metadata": {},
   "outputs": [
    {
     "data": {
      "text/plain": [
       "3.265999999999994"
      ]
     },
     "execution_count": 399,
     "metadata": {},
     "output_type": "execute_result"
    }
   ],
   "source": [
    "list(df['target'])[378]"
   ]
  },
  {
   "cell_type": "code",
   "execution_count": 40,
   "metadata": {},
   "outputs": [],
   "source": [
    "def get_df_pred(stock):\n",
    "    \n",
    "    num_of_sample = 100\n",
    "    \n",
    "    X = np.zeros((num_of_sample + 1, seq_length, len(numerical_cols)))\n",
    "    y = np.zeros((num_of_sample + 1))\n",
    "    \n",
    "    # Pick A Random Stock \n",
    "    df = df_stock_price[df_stock_price['stockcode']==stock].copy()\n",
    "    df = normalize_df(df)\n",
    "    \n",
    "    print('df:',len(df))\n",
    "    \n",
    "    # Get X, y of the stock\n",
    "    n = 0\n",
    "    while n < num_of_sample:\n",
    "        remain = num_of_sample - n \n",
    "        X[n] = df[numerical_cols][-seq_length-remain:-remain].values\n",
    "        y[n] = list(df['target'])[-remain]\n",
    "        n = n + 1\n",
    "    \n",
    "    X[num_of_sample] = df[numerical_cols][-seq_length:].values\n",
    "    y[num_of_sample] = None\n",
    "    return X, y"
   ]
  },
  {
   "cell_type": "code",
   "execution_count": 44,
   "metadata": {},
   "outputs": [
    {
     "name": "stdout",
     "output_type": "stream",
     "text": [
      "df: 381\n"
     ]
    },
    {
     "data": {
      "text/plain": [
       "[<matplotlib.lines.Line2D at 0x7faa842a5160>]"
      ]
     },
     "execution_count": 44,
     "metadata": {},
     "output_type": "execute_result"
    },
    {
     "data": {
      "image/png": "[encoded data removed]",
      "text/plain": [
       "<Figure size 432x288 with 1 Axes>"
      ]
     },
     "metadata": {
      "needs_background": "light"
     },
     "output_type": "display_data"
    }
   ],
   "source": [
    "X_Ori, y_Ori = get_df_pred('1216.HK')\n",
    "y_pred = model.predict(X_Ori)\n",
    "plt.plot(y_Ori)\n",
    "plt.plot(y_pred)"
   ]
  },
  {
   "cell_type": "code",
   "execution_count": null,
   "metadata": {},
   "outputs": [],
   "source": []
  }
 ],
 "metadata": {
  "kernelspec": {
   "display_name": "Python 3",
   "language": "python",
   "name": "python3"
  },
  "language_info": {
   "codemirror_mode": {
    "name": "ipython",
    "version": 3
   },
   "file_extension": ".py",
   "mimetype": "text/x-python",
   "name": "python",
   "nbconvert_exporter": "python",
   "pygments_lexer": "ipython3",
   "version": "3.7.3"
  }
 },
 "nbformat": 4,
 "nbformat_minor": 1
}
