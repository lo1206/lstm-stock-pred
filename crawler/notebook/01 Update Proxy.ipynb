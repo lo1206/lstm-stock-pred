{
 "cells": [
  {
   "cell_type": "code",
   "execution_count": 13,
   "metadata": {},
   "outputs": [],
   "source": [
    "# Web Packages\n",
    "import proxyscrape\n",
    "import requests\n",
    "\n",
    "# Date Packages\n",
    "from datetime import date, datetime\n",
    "\n",
    "# Database Packages\n",
    "import psycopg2\n",
    "\n",
    "# Numeric Packages\n",
    "import random\n",
    "\n",
    "import sys\n",
    "sys.path.append('../utils')\n",
    "\n",
    "from db_operator import Db_Operator"
   ]
  },
  {
   "cell_type": "markdown",
   "metadata": {},
   "source": [
    "## TaskID"
   ]
  },
  {
   "cell_type": "code",
   "execution_count": 3,
   "metadata": {},
   "outputs": [
    {
     "name": "stdout",
     "output_type": "stream",
     "text": [
      "20190725-080841\n"
     ]
    }
   ],
   "source": [
    "taskid = '{date:%Y%m%d-%H%M%S}'.format( date=datetime.now()) \n",
    "print(taskid)"
   ]
  },
  {
   "cell_type": "markdown",
   "metadata": {},
   "source": [
    "## Scrape Proxy"
   ]
  },
  {
   "cell_type": "code",
   "execution_count": 4,
   "metadata": {},
   "outputs": [],
   "source": [
    "dbo = Db_Operator(taskid)"
   ]
  },
  {
   "cell_type": "code",
   "execution_count": 5,
   "metadata": {},
   "outputs": [
    {
     "name": "stdout",
     "output_type": "stream",
     "text": [
      "getting proxy: 0\n",
      "getting proxy: 1\n",
      "getting proxy: 2\n",
      "getting proxy: 3\n",
      "getting proxy: 4\n",
      "getting proxy: 5\n",
      "getting proxy: 6\n",
      "getting proxy: 7\n",
      "getting proxy: 8\n",
      "getting proxy: 9\n",
      "getting proxy: 10\n",
      "getting proxy: 11\n",
      "getting proxy: 12\n",
      "getting proxy: 13\n",
      "getting proxy: 14\n",
      "getting proxy: 15\n",
      "getting proxy: 16\n",
      "getting proxy: 17\n",
      "getting proxy: 18\n",
      "getting proxy: 19\n",
      "getting proxy: 20\n",
      "getting proxy: 21\n",
      "getting proxy: 22\n",
      "getting proxy: 23\n",
      "getting proxy: 24\n",
      "getting proxy: 25\n",
      "getting proxy: 26\n",
      "getting proxy: 27\n",
      "getting proxy: 28\n",
      "getting proxy: 29\n",
      "getting proxy: 30\n",
      "getting proxy: 31\n",
      "getting proxy: 32\n",
      "getting proxy: 33\n",
      "getting proxy: 34\n",
      "getting proxy: 35\n",
      "getting proxy: 36\n",
      "getting proxy: 37\n",
      "getting proxy: 38\n",
      "getting proxy: 39\n",
      "getting proxy: 40\n",
      "getting proxy: 41\n",
      "getting proxy: 42\n",
      "getting proxy: 43\n",
      "getting proxy: 44\n",
      "getting proxy: 45\n",
      "getting proxy: 46\n",
      "getting proxy: 47\n",
      "getting proxy: 48\n",
      "getting proxy: 49\n"
     ]
    }
   ],
   "source": [
    "try:\n",
    "    # Create a collector for http resources\n",
    "    collector = proxyscrape.create_collector('MyProxy'+str(random.randint(100,10000)), 'https')  \n",
    "    \n",
    "    for i in range(50):\n",
    "        print('getting proxy:', i)\n",
    "        proxy = collector.get_proxy({'code': ('us', 'uk'), 'anonymous': True})\n",
    "        dbo.add_proxy(proxy.host+':'+proxy.port)\n",
    "    \n",
    "    # Write to Log\n",
    "    dbo.add_sys_log('get proxy', 'success', '')\n",
    "except Exception as e:\n",
    "    print(str(e))\n",
    "    dbo.add_sys_log('get proxy', 'fail', str(e))"
   ]
  },
  {
   "cell_type": "code",
   "execution_count": null,
   "metadata": {},
   "outputs": [],
   "source": []
  },
  {
   "cell_type": "code",
   "execution_count": null,
   "metadata": {},
   "outputs": [],
   "source": []
  }
 ],
 "metadata": {
  "kernelspec": {
   "display_name": "Python 3",
   "language": "python",
   "name": "python3"
  },
  "language_info": {
   "codemirror_mode": {
    "name": "ipython",
    "version": 3
   },
   "file_extension": ".py",
   "mimetype": "text/x-python",
   "name": "python",
   "nbconvert_exporter": "python",
   "pygments_lexer": "ipython3",
   "version": "3.7.3"
  }
 },
 "nbformat": 4,
 "nbformat_minor": 2
}
