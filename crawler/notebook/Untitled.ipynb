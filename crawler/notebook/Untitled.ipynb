{
 "cells": [
  {
   "cell_type": "code",
   "execution_count": 3,
   "metadata": {},
   "outputs": [],
   "source": [
    "# Packages\n",
    "import proxyscrape\n",
    "import random\n",
    "import sys\n",
    "import yfinance as yf\n",
    "import pandas as pd\n",
    "import time\n",
    "from itertools import cycle\n",
    "from datetime import datetime, timedelta\n",
    "from interruptingcow import timeout\n"
   ]
  },
  {
   "cell_type": "code",
   "execution_count": 5,
   "metadata": {},
   "outputs": [],
   "source": [
    "sys.path.append('../utils')\n",
    "import db"
   ]
  },
  {
   "cell_type": "code",
   "execution_count": 6,
   "metadata": {},
   "outputs": [],
   "source": [
    "\n",
    "def update_stockprice():\n",
    "    db.taskid = '{date:%Y%m%d-%H%M%S}'.format(date=datetime.now())\n",
    "\n",
    "    ################## Download stock data by proxy ###################\n",
    "\n",
    "    # Get Proxy List\n",
    "    proxies = db.get_proxy()\n",
    "    proxy_pool = cycle(proxies)\n",
    "\n",
    "    # Get new proxy\n",
    "    proxy = next(proxy_pool)\n",
    "\n",
    "    # Select Stocks\n",
    "    df_stock_master = db.show_stock_master()\n",
    "    stocks = df_stock_master[df_stock_master.industryclassification == '銀行']['stockcode'].tolist()\n",
    "\n",
    "    # Select Time period\n",
    "    start_date = (datetime.today() - timedelta(days=10))\n",
    "    end_date = datetime.today()\n",
    "\n",
    "    # Create Empty Stock Price Table\n",
    "    col_names = ['Stock Code', 'Date', 'Open', 'High', 'Low', 'Close', 'Adj Close', 'Volume']\n",
    "\n",
    "    # Get stock price data from selected stocks\n",
    "    for stock in stocks:\n",
    "\n",
    "        isdownloaded = False\n",
    "        error_count = 0\n",
    "\n",
    "        # Download stock\n",
    "        while isdownloaded is False and error_count < 50:\n",
    "            try:\n",
    "\n",
    "                print('--------------------------------------------------------')\n",
    "                print('stock: ', stock, ' using proxy: ', proxy)\n",
    "\n",
    "                # Download within 5 seconds\n",
    "                with timeout(10, exception=RuntimeError):\n",
    "                    data = yf.download(tickers=stock, start=start_date, end=end_date, proxy=proxy)\n",
    "                    isdownloaded = True\n",
    "            except Exception as e:\n",
    "                print(\"Proxy Error\")\n",
    "                proxy = next(proxy_pool)\n",
    "                error_count = error_count + 1\n",
    "\n",
    "        # Check Download Success\n",
    "        if isdownloaded:\n",
    "            data['Date'] = data.index\n",
    "            data['Stock Code'] = stock\n",
    "\n",
    "            df_stock_price_download = pd.DataFrame(columns=col_names)\n",
    "            df_stock_price_download = df_stock_price_download.append(data, sort=False)\n",
    "            df_stock_price_download = df_stock_price_download[col_names]\n",
    "\n",
    "            ################## Insert into database ###################\n",
    "            try:\n",
    "\n",
    "                # Delete original stock price data\n",
    "                db.delete_stock_price(stock, start_date, end_date)\n",
    "                print('finished delete stock:' + stock)\n",
    "\n",
    "                # Insert stock price data\n",
    "                stock_prices = []\n",
    "                for index, row in df_stock_price_download.iterrows():\n",
    "                    stock_prices.append([row['Stock Code'], row['Date'], row['Open'],\n",
    "                                         row['High'], row['Low'], row['Close'],\n",
    "                                         row['Adj Close'], row['Volume']])\n",
    "\n",
    "                print('Started add stock price:' + stock)\n",
    "                db.add_stock_price(stock_prices)\n",
    "                print('Finished add stock price:' + stock)\n",
    "                time.sleep(10)\n",
    "\n",
    "                # Add to system log\n",
    "                db.add_sys_log('add stock price', 'success', stock)\n",
    "            except Exception as e:\n",
    "                print('[Error inserting ' + stock + '] '+ str(e))\n",
    "\n",
    "\n",
    "        else:\n",
    "            print('[Error downloading '+ stock +']')\n"
   ]
  },
  {
   "cell_type": "code",
   "execution_count": 7,
   "metadata": {},
   "outputs": [
    {
     "name": "stdout",
     "output_type": "stream",
     "text": [
      "--------------------------------------------------------\n",
      "stock:  0005.HK  using proxy:  35.245.208.185:3128\n",
      "[*********************100%***********************]  1 of 1 downloaded\n",
      "finished delete stock:0005.HK\n",
      "Started add stock price:0005.HK\n",
      "Finished add stock price:0005.HK\n",
      "--------------------------------------------------------\n",
      "stock:  0011.HK  using proxy:  35.245.208.185:3128\n",
      "[*********************100%***********************]  1 of 1 downloaded\n",
      "finished delete stock:0011.HK\n",
      "Started add stock price:0011.HK\n",
      "Finished add stock price:0011.HK\n"
     ]
    },
    {
     "ename": "KeyboardInterrupt",
     "evalue": "",
     "output_type": "error",
     "traceback": [
      "\u001b[0;31m---------------------------------------------------------------------------\u001b[0m",
      "\u001b[0;31mKeyboardInterrupt\u001b[0m                         Traceback (most recent call last)",
      "\u001b[0;32m<ipython-input-7-88e4b0ed48df>\u001b[0m in \u001b[0;36m<module>\u001b[0;34m\u001b[0m\n\u001b[0;32m----> 1\u001b[0;31m \u001b[0mupdate_stockprice\u001b[0m\u001b[0;34m(\u001b[0m\u001b[0;34m)\u001b[0m\u001b[0;34m\u001b[0m\u001b[0;34m\u001b[0m\u001b[0m\n\u001b[0m",
      "\u001b[0;32m<ipython-input-6-577ff2bf26d1>\u001b[0m in \u001b[0;36mupdate_stockprice\u001b[0;34m()\u001b[0m\n\u001b[1;32m     70\u001b[0m                 \u001b[0mdb\u001b[0m\u001b[0;34m.\u001b[0m\u001b[0madd_stock_price\u001b[0m\u001b[0;34m(\u001b[0m\u001b[0mstock_prices\u001b[0m\u001b[0;34m)\u001b[0m\u001b[0;34m\u001b[0m\u001b[0;34m\u001b[0m\u001b[0m\n\u001b[1;32m     71\u001b[0m                 \u001b[0mprint\u001b[0m\u001b[0;34m(\u001b[0m\u001b[0;34m'Finished add stock price:'\u001b[0m \u001b[0;34m+\u001b[0m \u001b[0mstock\u001b[0m\u001b[0;34m)\u001b[0m\u001b[0;34m\u001b[0m\u001b[0;34m\u001b[0m\u001b[0m\n\u001b[0;32m---> 72\u001b[0;31m                 \u001b[0mtime\u001b[0m\u001b[0;34m.\u001b[0m\u001b[0msleep\u001b[0m\u001b[0;34m(\u001b[0m\u001b[0;36m10\u001b[0m\u001b[0;34m)\u001b[0m\u001b[0;34m\u001b[0m\u001b[0;34m\u001b[0m\u001b[0m\n\u001b[0m\u001b[1;32m     73\u001b[0m \u001b[0;34m\u001b[0m\u001b[0m\n\u001b[1;32m     74\u001b[0m                 \u001b[0;31m# Add to system log\u001b[0m\u001b[0;34m\u001b[0m\u001b[0;34m\u001b[0m\u001b[0;34m\u001b[0m\u001b[0m\n",
      "\u001b[0;31mKeyboardInterrupt\u001b[0m: "
     ]
    }
   ],
   "source": [
    "update_stockprice()"
   ]
  },
  {
   "cell_type": "code",
   "execution_count": null,
   "metadata": {},
   "outputs": [],
   "source": []
  }
 ],
 "metadata": {
  "kernelspec": {
   "display_name": "Python 3",
   "language": "python",
   "name": "python3"
  },
  "language_info": {
   "codemirror_mode": {
    "name": "ipython",
    "version": 3
   },
   "file_extension": ".py",
   "mimetype": "text/x-python",
   "name": "python",
   "nbconvert_exporter": "python",
   "pygments_lexer": "ipython3",
   "version": "3.7.3"
  }
 },
 "nbformat": 4,
 "nbformat_minor": 2
}
